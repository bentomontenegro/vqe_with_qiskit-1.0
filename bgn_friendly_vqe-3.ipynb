{
 "cells": [
  {
   "cell_type": "markdown",
   "id": "2178c146-739a-49e2-ac10-97fb5221b0fa",
   "metadata": {},
   "source": [
    "# A beginner-friendly implementation of the VQE with qiskit 1.0 (Part 3)\n",
    "\n",
    "## Introduction\n",
    "\n",
    "In the previous Notebooks we learned how to implement VQE from its very scratch for a really simple Hamiltonian. We also learned how to implement the _gradient descent method_ in order to find the optimum set of parameters to our problem. However, this costed us so many lines of code, and now I must tell you the truth: `qiskit` ans `scipy` can make our lives really easier!!\n",
    "\n",
    "In this Notebook I will show you a more sofisticated way of implementing the VQE. This is actually the \"advanced\" way in qiskit, but don't worry: now you know the basics! This means that (hopefully) it will be a lot easier to you to know what's going on behind the scenes of our functions.\n",
    "\n",
    "## Previous Notebooks\n",
    "\n",
    "Let me summarize what we did previously.\n",
    "\n",
    "We were given a Hamiltonian $H$ and asked to return its lowest (or \"ground-state\") expectation value, $\\langle H \\rangle_0$. To this end, of course, we had to determine its ground state eigenvector. Our strategy was then to create a parameterized quantum circuit, i.e. an _ansatz_, and vary its state until we find the state that produces the lowest $\\langle H \\rangle$.\n",
    "\n",
    "In the specific cases considered ($H = Z$ and $H = Z - X$) things were very simple, but if $H$ becomes really complicated, a best practice is to find what we call a _scalable_ method. That is, a code implementation in which we can simply change a few code parameters and the code line defining $H, and the code will run as well, whatever our choice is.\n",
    "\n",
    "Of course, scalability is not always possible, but fortunatelly, in our case, it is. Nonetheless, I need first to introduce you the `Estimator` primitive.\n",
    "\n",
    "## Optimization Loop\n",
    "\n",
    "A major feature of `qiskit 1.0x` is the use of _primitives_, which are the basic operations a quantum computer can perform. In summary, there are 2 of them, the `Sampler`, which is used to obtain the probability distribution of a statevector, and the `Estimator`, which is used to easily compute expectation values of observables. In this Notebook I will introduce only the `Estimator` and you can read more about the `Sampler` here (ADD LINK).\n",
    "\n",
    "### Simpler example\n",
    "\n",
    "#### Defining the Hamiltonian and the Ansatz\n",
    "\n",
    "Let us try to be shorter this time and begin our hands-on work right now. I will consider first the same Hamiltonian as in the last Notebook."
   ]
  },
  {
   "cell_type": "code",
   "execution_count": 25,
   "id": "5076357c-02d0-4617-870e-0b3608b0730f",
   "metadata": {},
   "outputs": [
    {
     "data": {
      "image/png": "[encoded data removed]",
      "text/plain": [
       "<Figure size 269.064x117.056 with 1 Axes>"
      ]
     },
     "execution_count": 25,
     "metadata": {},
     "output_type": "execute_result"
    }
   ],
   "source": [
    "from qiskit.quantum_info import SparsePauliOp\n",
    "from qiskit.circuit import ParameterVector, QuantumCircuit\n",
    "\n",
    "## Hamiltonian\n",
    "H = SparsePauliOp(data = [\"X\", \"Z\"], coeffs = [1, -1])\n",
    "\n",
    "## Ansatz\n",
    "num_qubits = 1 # We need only one qubit (see Notebook 2)\n",
    "theta = ParameterVector(\"θ\", 2) # We need only two parameters (see Notebook 2)\n",
    "ansatz = QuantumCircuit(num_qubits)\n",
    "ansatz.rx(theta[0], 0)\n",
    "ansatz.rz(theta[1], 0)\n",
    "ansatz.draw(\"mpl\")"
   ]
  },
  {
   "cell_type": "markdown",
   "id": "c3df7d6d-e0f4-4572-a8b5-f1f3d9ec68ff",
   "metadata": {},
   "source": [
    "#### Calling `Estimator`\n",
    "\n",
    "Now that we have our Hamiltonian and our ansatz, we can use `StatevectorEstimator` to compute expectation values as we vary our parameters."
   ]
  },
  {
   "cell_type": "code",
   "execution_count": 40,
   "id": "b20a371d-0662-46e6-8e5b-51ac77576661",
   "metadata": {},
   "outputs": [],
   "source": [
    "from qiskit_aer import AerSimulator\n",
    "from qiskit.primitives import StatevectorEstimator\n",
    "\n",
    "estimator = StatevectorEstimator()"
   ]
  },
  {
   "cell_type": "markdown",
   "id": "b02f5598-2ada-4ed2-a176-b2f5b862d7e1",
   "metadata": {},
   "source": [
    "Now it will be proven very useful to define a function that computes the expectation value of our Hamiltonian. Note that the `job` called with `Estimator` requieres as argument a tuple of PUBs (Primitive Unitary Blocks) containing the ansatz and the observable for which we want to compute the expectation value."
   ]
  },
  {
   "cell_type": "code",
   "execution_count": 44,
   "id": "45f54a51-37c8-40f6-b7d0-28a393e0bf5f",
   "metadata": {},
   "outputs": [],
   "source": [
    "def energy_exp(params, ansatz, hamiltonian, estimator):\n",
    "    '''\n",
    "    params: list of parameters to be assigned to the ansatz\n",
    "    hamiltonian: Hamiltonian of the system\n",
    "    ansatz: Parameterized quantum circuit\n",
    "    estimator: an instance of the Estimator primitive (in our case it is Estimator alongside AerSimulator)\n",
    "    '''\n",
    "    \n",
    "    pubs = (ansatz, hamiltonian, params)\n",
    "    job = estimator.run([pubs])\n",
    "    exp_val = job.result()[0].data.evs\n",
    "\n",
    "    return exp_val"
   ]
  },
  {
   "cell_type": "markdown",
   "id": "f3a8b7ab-5fe5-40d9-b1fc-85473c7eb3f2",
   "metadata": {},
   "source": [
    "#### Optimizing with `scipy`\n",
    "\n",
    "The optimization part of our process took us several lines of code. However, the `minimize` function from scipi can do all the dirty job of finding the optimum set of parameters for us with a single line of code!"
   ]
  },
  {
   "cell_type": "code",
   "execution_count": 56,
   "id": "1cd42111-982c-4836-917d-a413a188c240",
   "metadata": {},
   "outputs": [
    {
     "data": {
      "text/plain": [
       "  message: Optimization terminated successfully.\n",
       "  success: True\n",
       "   status: 0\n",
       "      fun: -1.4142135623362644\n",
       "        x: [-7.854e-01  1.571e+00]\n",
       "      nit: 8\n",
       "      jac: [-9.716e-06 -2.205e-06]\n",
       " hess_inv: [[ 6.560e-01 -2.372e-02]\n",
       "            [-2.372e-02  1.404e+00]]\n",
       "     nfev: 27\n",
       "     njev: 9"
      ]
     },
     "execution_count": 56,
     "metadata": {},
     "output_type": "execute_result"
    }
   ],
   "source": [
    "import numpy as np\n",
    "from scipy.optimize import minimize\n",
    "\n",
    "x0 = np.ones(2) ## Initial guess for the parameter list: [1, 1]\n",
    "\n",
    "result = minimize(energy_exp, x0, args = (ansatz, H, estimator), method = \"BFGS\")\n",
    "result"
   ]
  },
  {
   "cell_type": "markdown",
   "id": "c0eceda9-0fb8-4ab9-9c0e-beac4cd4d947",
   "metadata": {},
   "source": [
    "We passed the `\"BFGS\"` method as the argument of the minimize function, which is a gradient-based method similar to the gradient descent method. There are, however, several other optimization techniques, like global optimization. You can check more about this here and here.\n",
    "\n",
    "Now let us break down the outputs above.\n",
    "\n",
    "- `message`: Status of the optimization (returns an error message if somethings goes wrong)\n",
    "- `sucess`: `True` for sucess, `False` for Fail\n",
    "- `status`: `0` indicates that the optimization terminated successfully\n",
    "- `fun`: This is the minimum value found by the optimizer.\n",
    "- `x`: The list of optimal parameters\n",
    "- `nit`: Number of iteractions the optimizer performed to get the solution\n",
    "- `jac`: The gradient (Jacobian) of the function we are trying to minimize\n",
    "- `hess_inv`: The inverse of the Hessian matrix, which can be used to estimate the degree of uncertainty in the optimization process\n",
    "- `nfev`: Number of times the optimizer needed to evaluate the function\n",
    "- `njev`: Number of times the optimizer needed to evaluate the gradient of the function"
   ]
  },
  {
   "cell_type": "markdown",
   "id": "860c2be9-3557-4df3-a5cb-156370b4d20b",
   "metadata": {},
   "source": [
    "You can check that all the answer are consistent with our previous Notebook. The ground-state energy is, as expected, $E_0 \\approx \\sqrt{2} = -1.4142$ and below we print our groud state eigenvector:"
   ]
  },
  {
   "cell_type": "markdown",
   "id": "52f935f3-f671-4cac-9edf-8b8a1e48e8f9",
   "metadata": {},
   "source": [
    "### More complex example\n",
    "\n",
    "As said earlier, the method presented extends very simply to more complex Hamiltonians. For example, take\n",
    "\\begin{equation}\n",
    "    H = - \\frac{1}{2} I \\otimes X \\otimes X - \\frac{1}{2} Z \\otimes Z \\otimes I.\n",
    "\\end{equation}"
   ]
  },
  {
   "cell_type": "code",
   "execution_count": 70,
   "id": "2da25845-a9b4-49c5-bf51-989e0584d938",
   "metadata": {},
   "outputs": [
    {
     "data": {
      "image/png": "[encoded data removed]",
      "text/plain": [
       "<Figure size 287.496x284.278 with 1 Axes>"
      ]
     },
     "execution_count": 70,
     "metadata": {},
     "output_type": "execute_result"
    }
   ],
   "source": [
    "## New Hamiltonian\n",
    "new_H = SparsePauliOp(data = [\"XXI\", \"ZZI\"], coeffs = [-1/2, -1/2]) # Recall that qiskit uses reversed qubit ordering\n",
    "\n",
    "## New ansatz\n",
    "new_ansatz = QuantumCircuit(3) # Now we need 3 qubits\n",
    "\n",
    "new_theta = ParameterVector(\"θ\", 6) # 2 parameters for each qubit\n",
    "\n",
    "new_ansatz.rx(new_theta[0], 0)\n",
    "new_ansatz.rz(new_theta[1], 0)\n",
    "\n",
    "new_ansatz.rx(new_theta[2], 1)\n",
    "new_ansatz.rz(new_theta[3], 1)\n",
    "\n",
    "new_ansatz.rx(new_theta[4], 2)\n",
    "new_ansatz.rz(new_theta[5], 2)\n",
    "\n",
    "new_ansatz.draw(\"mpl\")"
   ]
  },
  {
   "cell_type": "code",
   "execution_count": 66,
   "id": "2abb6077-a550-4549-b097-a5fb5e2596fe",
   "metadata": {},
   "outputs": [
    {
     "data": {
      "text/plain": [
       "  message: Optimization terminated successfully.\n",
       "  success: True\n",
       "   status: 0\n",
       "      fun: -0.499999999995433\n",
       "        x: [ 1.000e+00  1.000e+00  8.019e-01  1.571e+00  8.019e-01\n",
       "             1.571e+00]\n",
       "      nit: 4\n",
       "      jac: [ 1.490e-08  7.451e-09  1.490e-08 -1.065e-06  1.490e-08\n",
       "            -1.073e-06]\n",
       " hess_inv: [[ 1.000e+00 -2.366e-12 ...  6.159e-07 -2.734e-06]\n",
       "            [-2.366e-12  1.000e+00 ...  3.573e-07 -1.482e-06]\n",
       "            ...\n",
       "            [ 6.159e-07  3.573e-07 ...  1.124e+00 -4.310e-01]\n",
       "            [-2.734e-06 -1.482e-06 ... -4.310e-01  2.427e+00]]\n",
       "     nfev: 35\n",
       "     njev: 5"
      ]
     },
     "execution_count": 66,
     "metadata": {},
     "output_type": "execute_result"
    }
   ],
   "source": [
    "## Optimization Loop\n",
    "x0 = np.ones(6) ## Initial guess for the parameter list: [1, 1]\n",
    "\n",
    "new_result = minimize(energy_exp, x0, args = (new_ansatz, new_H, estimator), method = \"BFGS\")\n",
    "new_result"
   ]
  },
  {
   "cell_type": "markdown",
   "id": "40f2b28a-f05a-4cdf-b247-b88c97877859",
   "metadata": {},
   "source": [
    "In this example, the optimizer found $E_0 \\approx -1/2$. We left printing the ground state eigenvector as an exercise."
   ]
  },
  {
   "cell_type": "markdown",
   "id": "6becaa0c-721a-4217-9a75-9135cf960a9b",
   "metadata": {},
   "source": [
    "## Closing remarks\n",
    "\n",
    "In this Notebook we saw how to implement VQE in a scalable, more compact, and (why not saying?) elegant way. This is actually how it is implemented in most applications across industrial needs, and it has the advantage of the `scipy` minimizer doing all the dirty job for us very concisely and quickly.\n",
    "\n",
    "It should be noted, however, that each application of VQE may come with its own subtleties. For example, a certain _global_ optimization method may be better suited for the problem you are considering. My intention here was simply to give you a quickstart to your journey. Hope this was achieved. Thank you!"
   ]
  },
  {
   "cell_type": "code",
   "execution_count": null,
   "id": "cf80351a-da1b-4cde-b5a2-f77fdf3ad951",
   "metadata": {},
   "outputs": [],
   "source": []
  }
 ],
 "metadata": {
  "kernelspec": {
   "display_name": "Python 3 (ipykernel)",
   "language": "python",
   "name": "python3"
  },
  "language_info": {
   "codemirror_mode": {
    "name": "ipython",
    "version": 3
   },
   "file_extension": ".py",
   "mimetype": "text/x-python",
   "name": "python",
   "nbconvert_exporter": "python",
   "pygments_lexer": "ipython3",
   "version": "3.10.11"
  }
 },
 "nbformat": 4,
 "nbformat_minor": 5
}
