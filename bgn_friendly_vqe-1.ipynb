{
 "cells": [
  {
   "cell_type": "markdown",
   "id": "179c2d46-57c2-40fc-8930-70d9380c9ff2",
   "metadata": {},
   "source": [
    "# A beginner-friendly implementation of the VQE with qiskit 1.0 (Part 1)\n",
    "\n",
    "## Introduction\n",
    "\n",
    "In this notebook I consider a very rudimentary application of the Variational Quantum Eigensolver (VQE) to find the ground-state (gs) energy of the Hamiltonian $H = Z$. Of course, this answer is rather elementary to those familiarized with quantum computing: the eigenvalues of $Z$ are $\\pm 1$, so that the lowest (gs) value is $-1$. Nevertheless, this presentation is not intended to bring new insight about recent developments of the VQE. Instead, it aims to present a begginer-friendly guide to those starting their journey towards learning this important quantum algotithm.\n",
    "\n",
    "I assume the reader is familiarized with the following topics:\n",
    "\n",
    "1. The variational method in quantum mechanics\n",
    "2. Simulation of quantum circuits and quantum gates with qiskit 1.0 (lattest release)\n",
    "3. Ansätze (pl. of Ansatz)\n",
    "4. Basics of Python (libraries like numpy, matplotlib, etc.) and object-oriented programming (classes, functions, etc.)\n",
    "\n",
    "For a brief introduction to (1), (2) and (3), for example, I recommend you the following resources:\n",
    "\n",
    "1. [Variational method in quantum mechanics, by Bento Montenegro (the author)](https://drive.google.com/file/d/1F-rsA5u3uWMlLfXKrXMNVpV4qkqWOzUF/view?usp=sharing)\n",
    "2. [Qiskit pocket guide, by James Weaver and Francis Harkins](https://www.amazon.com.br/Qiskit-Pocket-Guide-Quantum-Development/dp/1098112474)\n",
    "3. [Musty thoughts tutorials](https://www.mustythoughts.com/variational-quantum-eigensolver-explained)"
   ]
  },
  {
   "cell_type": "markdown",
   "id": "feaa63ff-9f96-463a-8da9-45c52c4c54e0",
   "metadata": {},
   "source": [
    "## Building the Ansatz as a quantum circuit\n",
    "\n",
    "Suppose that we are given a Hamiltonian $H$ whose eigenstates are unknown, and that our task is to determine its gs-energy. Shortly stated, the variational method consists in trying to find a set of parameters $\\xi = (\\theta_1, ..., \\theta_N)$, such that the _Ansatz_ (= trial state) $|\\psi(\\xi)\\rangle$ produces the lowest value possible when plugged into the expectation value of $H$. Mathematically, we want to find an _optimum_ set of parameters $\\xi$ such that the quantity\n",
    "\\begin{equation}\n",
    "    E_0(\\xi) = \\langle \\psi(\\xi) | H | \\psi(\\xi) \\rangle.\n",
    "\\end{equation}\n",
    "is as low as possible. The so-called _variation theorem_, which is not difficult to prove, ensured that the RHS of this equation is always greater than or equal to the actual gs-energy of a given physical system.\n",
    "\n",
    "The construction of a general Ansatz can be achieved in qiskit by defining a _parameterized quantum circuit_, i.e. a quantum circuit to which some rotational gates are specified but no specific numerical values are assigned _a priori_ to their rotational angles. In the following code snippet we create a 1-qubit quantum circuit and apply to it two parameterized rotational gates, $R_x(\\theta)$ and $R_z(\\phi)$."
   ]
  },
  {
   "cell_type": "code",
   "execution_count": 1,
   "id": "525dcbf4-ffad-447b-9fe7-6d62b7191c0e",
   "metadata": {},
   "outputs": [
    {
     "data": {
      "image/png": "[encoded data removed]",
      "text/plain": [
       "<Figure size 496.776x200.667 with 1 Axes>"
      ]
     },
     "execution_count": 1,
     "metadata": {},
     "output_type": "execute_result"
    }
   ],
   "source": [
    "### Parameterized Ansatz\n",
    "\n",
    "from qiskit import QuantumCircuit\n",
    "from qiskit.circuit import Parameter\n",
    "\n",
    "## Ansatz for H1 = Z\n",
    "qc = QuantumCircuit(1) # 1-qubit quantum circuit\n",
    "theta = Parameter('theta') # Azhimutal angle\n",
    "phi = Parameter('phi') # Polar angle\n",
    "qc.ry(theta, 0) # Parameterized y-rotation\n",
    "qc.rz(phi, 0) # Parameterized z-rotation\n",
    "qc.measure_all()\n",
    "\n",
    "qc.draw('mpl')"
   ]
  },
  {
   "attachments": {},
   "cell_type": "markdown",
   "id": "e508762d-065e-49ee-b512-aeaf9b0c9342",
   "metadata": {},
   "source": [
    "Of course, the parameters $\\theta$ and $\\phi$ correspond to the usual (azhimutal and polar) angles of the qubit's Bloch sphere. Specific numerical values will be assigned to them when we start to rock.\n",
    "\n",
    "<div style = \"text-align: center;\">\n",
    "    <img src = \"Bloch.png\" style = \"width:250px; height:260px\"/>\n",
    "</div>\n",
    "\n",
    "In summary, the VQE consits in the following general steps:\n",
    "\n",
    "1. An Ansatz is implemented as a parameterized quantum circuit\n",
    "2. Specific values are assigned to these parameters\n",
    "3. A quantum computer runs the circuit and returns the expectation value of $H$ to a classical computer\n",
    "4. The classical computer evaluates somehow if the expectation value is good enough, given the values assigned to the parameters\n",
    "    1. If the answer is \"yes\", the process stops and we have an estimate for the gs-energy of the system\n",
    "    2. If the answer is \"no\", the classical computer chooses (as wisely as possible) new values to be assigned to the parameters and the whole process is repeated\n",
    "  \n",
    "Because one part of this process happens in a quantum computer and the another part in a classical computer, we say that the VQE is a _hybrid_ algorithm. Particular attention has been raised to such processes today, as we are still in the era of NISQ (Near-term Intermediate Scale Quantum) machines. This means that such algorithms can already be explored with good results, serving for several purposes both in a academy and industry."
   ]
  },
  {
   "cell_type": "markdown",
   "id": "1d73cda6-3239-41d4-94d3-7f3f955d3a13",
   "metadata": {},
   "source": [
    "## Implementing the VQE\n",
    "\n",
    "### Hamiltonian of the system\n",
    "\n",
    "As said in the introduction, we consider $H = Z$ for pedagogical purposes. We do not need to specify it using any qiskit function, as will become clear in the function below. However, we could specify it using the `Pauli` class from `qiskit.quantum_info` (i.e. `H = Pauli('Z')` after `from qiskit.quantum_info import Pauli`), then simulate the state vector of our ansatz and finally explicitly calculate its expectation value. Our function, however, relieves us from the necessity of working with vectors, which are multi-component objects that may make calculations heavier."
   ]
  },
  {
   "cell_type": "markdown",
   "id": "4ccfe590-5eeb-4ebd-a9f2-d53f36c1094d",
   "metadata": {},
   "source": [
    "### Expectation values\n",
    "\n",
    "Now it is convenient to create a function that simulates a quantum circuit and returns the expectation value of $Z$. Of course, you are likely to ask \"what if I want to calculate the expectation value of X, for example?\". There is no problem, since if we rotate our coordinate system so that the X direction becomes the Z direction we can still apply the same function. However, in order to make things simpler here, I will cover this in a further notebook. I hope the comments will help you understand what is going on."
   ]
  },
  {
   "cell_type": "code",
   "execution_count": 3,
   "id": "7b680b1a-9d1f-40e0-a400-eab47c7cbeb0",
   "metadata": {},
   "outputs": [],
   "source": [
    "### Function to return expectation values from a given Ansatz\n",
    "\n",
    "from qiskit import transpile\n",
    "from qiskit_aer import Aer\n",
    "\n",
    "## Backend to return measurement counts\n",
    "backend = Aer.get_backend('qasm_simulator')\n",
    "\n",
    "## Function that returns 1 (-1) if the input is 0 (1)\n",
    "def Z_eigenvalue(measurement_outcome):\n",
    "    if measurement_outcome == '0':\n",
    "        return 1\n",
    "    else: return -1\n",
    "\n",
    "## Function that simulates a qc and returns the expectation value of the Pauli operator Z\n",
    "def ansatz_expectation(ansatz_qc, simulation_shots):\n",
    "    \n",
    "    ## Simulating the circuit\n",
    "    transpiled_ansatz = transpile(ansatz_qc, backend)\n",
    "    result = backend.run(transpiled_ansatz, shots = simulation_shots).result()\n",
    "    result_counts = result.get_counts()\n",
    "\n",
    "    ## Calculating the expectation value of Z\n",
    "    expectation = 0.0\n",
    "    for outcome, counts in result_counts.items():\n",
    "        expectation += Z_eigenvalue(outcome)*counts\n",
    "\n",
    "    return expectation/simulation_shots"
   ]
  },
  {
   "cell_type": "markdown",
   "id": "95c7835d-9aa6-44ae-99bf-63614fb2897f",
   "metadata": {},
   "source": [
    "I found simpler to use the `Aer` simulator in this case, but you can use the `BasicAer` or any other simulator that happens to return the number of measurement outcomes of a given circuit. Note that, because a quantum computer is a machine that rotates qubits and necessarily measure them at the end, we must pass the additional argument `simulation_shots` in order to make an _ensamble_ (= collection) of measurements to determine mean values such as $\\langle H \\rangle$. Recall that we have no direct access to superposition states: quantum mechanics tells that only \"single\" states can be the outcome of any measurement. I know this sounds rather philosophical, but in fact it is. According to the so-called Copenhagen interpretation (due to Bohr, Heisenberg, Dirac, Pauli et al.), single states are reality, whereas superpositions seems to be the simplest _language_ to describe reality (see the classical double-slit experiment)."
   ]
  },
  {
   "cell_type": "markdown",
   "id": "7b471365-fdce-4851-8846-889a6a8c3b0a",
   "metadata": {},
   "source": [
    "### Finding optimum parameters with the gradient-descent method\n",
    "\n",
    "Now we are ready to start our optimization process according to the well-known _gradient descent_ method.\n",
    "\n",
    "The basic idea to start at some random point, say $(\\theta_0 = 0, \\phi_0 = 0)$, and then update our parameters at each new iteraction like this:\n",
    "\\begin{equation}\n",
    "    \\begin{split}\n",
    "        \\theta &\\to \\theta_0 - \\delta \\theta \\frac{\\partial E_0}{\\partial \\theta} \\Bigg|_{(\\theta_0, \\phi_0)}\\\\\n",
    "        \\phi &\\to \\phi - \\delta \\phi \\frac{\\partial E_0}{\\partial \\phi} \\Bigg|_{(\\theta_0, \\phi_0)}\n",
    "    \\end{split}\n",
    "\\end{equation}\n",
    "where $\\partial E_0/\\partial \\theta = [E_0(\\theta + \\delta \\theta, \\phi) - E_0(\\theta, \\phi)]/\\delta \\theta$ and $\\partial E_0/\\partial \\phi = [E_0(\\theta, \\phi + \\delta \\phi) - E_0(\\theta, \\phi)]/\\delta \\phi$ are the components of the _gradient_ of $E_0$, provided that $\\delta \\theta$ and $\\delta \\phi$ are small. If you prefer a single equation, take $\\xi \\equiv (\\theta, \\phi)$ and $\\delta \\xi \\equiv (\\delta \\theta, \\delta \\phi)$, and there it is:\n",
    "\\begin{equation}\n",
    "    \\xi \\to \\xi_0 - \\delta \\xi \\cdot \\nabla E_0 |_{\\xi = \\xi_0}.\n",
    "\\end{equation}\n",
    "\n",
    "You might recall from the old days of calculus that the gradient of a function $f(x,y)$ is a vector field on the plane $(x,y)$ which always points in the direction of maximum increase of $f$. This means that the _negative_ gradient of a function always points in the direction of its maximum _decrease_. So the update makes sense (think a little bit about it).\n",
    "\n",
    "Hopefully the comments will help you again. Read carefully."
   ]
  },
  {
   "cell_type": "code",
   "execution_count": 48,
   "id": "77fdb220-9661-462b-9915-0ed978ad2392",
   "metadata": {},
   "outputs": [
    {
     "name": "stdout",
     "output_type": "stream",
     "text": [
      "1 0.01 0.00 | E_0 = 0.9998\n",
      "2 0.04 -0.00 | E_0 = 0.9992\n",
      "3 0.06 0.00 | E_0 = 0.9978\n",
      "4 0.09 0.00 | E_0 = 0.9924\n",
      "5 0.13 -0.00 | E_0 = 0.9920\n",
      "6 0.17 -0.00 | E_0 = 0.9862\n",
      "7 0.22 -0.00 | E_0 = 0.9800\n",
      "8 0.29 0.00 | E_0 = 0.9560\n",
      "9 0.38 0.00 | E_0 = 0.9238\n",
      "10 0.47 0.00 | E_0 = 0.8848\n",
      "11 0.56 0.00 | E_0 = 0.8492\n",
      "12 0.69 -0.00 | E_0 = 0.7716\n",
      "13 0.83 0.00 | E_0 = 0.6672\n",
      "14 0.97 -0.00 | E_0 = 0.5648\n",
      "15 1.15 -0.01 | E_0 = 0.4282\n",
      "16 1.36 0.02 | E_0 = 0.2218\n",
      "17 1.58 0.03 | E_0 = -0.0304\n",
      "18 1.75 0.01 | E_0 = -0.1760\n",
      "19 1.93 0.02 | E_0 = -0.3424\n",
      "20 2.11 0.03 | E_0 = -0.5096\n",
      "21 2.27 0.03 | E_0 = -0.6302\n",
      "22 2.42 0.03 | E_0 = -0.7414\n",
      "23 2.53 0.03 | E_0 = -0.8280\n",
      "24 2.63 0.02 | E_0 = -0.8674\n",
      "25 2.72 0.02 | E_0 = -0.9152\n",
      "26 2.78 0.02 | E_0 = -0.9290\n",
      "27 2.83 0.02 | E_0 = -0.9480\n",
      "28 2.88 0.03 | E_0 = -0.9644\n",
      "29 2.92 0.03 | E_0 = -0.9748\n",
      "30 2.94 0.03 | E_0 = -0.9780\n",
      "31 2.96 0.03 | E_0 = -0.9844\n",
      "32 2.98 0.03 | E_0 = -0.9884\n",
      "33 2.99 0.03 | E_0 = -0.9894\n",
      "34 3.00 0.03 | E_0 = -0.9878\n",
      "35 3.01 0.03 | E_0 = -0.9890\n",
      "36 3.02 0.04 | E_0 = -0.9910\n",
      "37 3.03 0.04 | E_0 = -0.9932\n",
      "38 3.03 0.04 | E_0 = -0.9926\n",
      "39 3.03 0.04 | E_0 = -0.9936\n",
      "40 3.04 0.05 | E_0 = -0.9946\n",
      "41 3.04 0.04 | E_0 = -0.9936\n",
      "42 3.04 0.04 | E_0 = -0.9948\n",
      "43 3.04 0.04 | E_0 = -0.9940\n",
      "44 3.04 0.04 | E_0 = -0.9944\n",
      "45 3.04 0.04 | E_0 = -0.9954\n",
      "46 3.04 0.04 | E_0 = -0.9946\n",
      "47 3.04 0.04 | E_0 = -0.9970\n",
      "48 3.04 0.04 | E_0 = -0.9958\n",
      "49 3.04 0.04 | E_0 = -0.9942\n",
      "50 3.04 0.04 | E_0 = -0.9946\n"
     ]
    }
   ],
   "source": [
    "### Finding the gs-state of H = Z\n",
    "\n",
    "from numpy import append, pi\n",
    "\n",
    "## Initial parameters\n",
    "theta_0 = 0.0 # Initial trial for theta\n",
    "phi_0 = 0.0 # Initial trial for phi\n",
    "shots = 1e4 # Number of shots for our simulations\n",
    "\n",
    "## Arrays to store optimum parameter values (An instructive plot will be made at the end)\n",
    "theta_array = [theta_0]\n",
    "phi_array = [phi_0]\n",
    "\n",
    "## Initial E_0\n",
    "\n",
    "E_0 = ansatz_expectation(qc.assign_parameters({theta: theta_0, phi: phi_0}), shots)\n",
    "\n",
    "## Loop parameters\n",
    "dtheta = dphi = 0.2 ## Increments\n",
    "num_iteractions = 50 # Number of optimization trials\n",
    "\n",
    "## Optimization loop\n",
    "\n",
    "for iteraction in range(num_iteractions):\n",
    "\n",
    "    ## Varying parameters\n",
    "    grad_E_theta = ansatz_expectation(qc.assign_parameters({theta: theta_0 + dtheta, phi: phi_0}), shots) - E_0\n",
    "    grad_E_phi = ansatz_expectation(qc.assign_parameters({theta: theta_0, phi: phi_0 + dphi}), shots) - E_0\n",
    "\n",
    "    ## Updating parameters\n",
    "    theta_0 -= grad_E_theta\n",
    "    phi_0 -= grad_E_phi\n",
    "\n",
    "    ## New estimate for E_0\n",
    "    E_0 = ansatz_expectation(qc.assign_parameters({theta: theta_0, phi: phi_0}), shots)\n",
    "            \n",
    "    ## Storing theta_0's and phi_0's\n",
    "    theta_array.append(theta_0)\n",
    "    phi_array.append(phi_0)\n",
    "\n",
    "    print(iteraction + 1, '%.2f'%theta_0, '%.2f'%phi_0, '| E_0 = %.4f'%E_0) # Uncoment this line if you want to watch the progress\n"
   ]
  },
  {
   "cell_type": "markdown",
   "id": "d0186497-be37-4496-9240-810c0ddd379b",
   "metadata": {},
   "source": [
    "You may check that the result estimates the correct answer $(\\theta_0 \\approx \\pi, \\phi_0 \\approx 0)$ with nice precision. You can also play with the loop parameters in order to achieve the best combination, i.e., the one that produces the correct results with less iteractions. In fact, playing with the paramateres and exploring phisical simmetries of a specific problem might lower the execution time of the algorithm considerably (and this is an active area of research today!)."
   ]
  },
  {
   "cell_type": "markdown",
   "id": "f581e3c4-3833-416e-8d65-09ab3b4dc937",
   "metadata": {},
   "source": [
    "## Analysis of the process\n",
    "\n",
    "The following plot might be instructive to visualize our \"search path\" throughout the $\\theta \\phi$-plane. You may just run the cell without paying much attention to the code itself, as it ilvolves only standard `matplotlib` functions (nothing especially related to quantum computing)."
   ]
  },
  {
   "cell_type": "code",
   "execution_count": 49,
   "id": "a14fdf39-c929-432c-aa8f-6042ba4a4c42",
   "metadata": {},
   "outputs": [
    {
     "data": {
      "text/plain": [
       "([<matplotlib.axis.YTick at 0x155a70170>],\n",
       " [Text(0, 0.041000000000000064, '0.041')])"
      ]
     },
     "execution_count": 49,
     "metadata": {},
     "output_type": "execute_result"
    },
    {
     "data": {
      "image/png": "[encoded data removed]",
      "text/plain": [
       "<Figure size 640x480 with 1 Axes>"
      ]
     },
     "metadata": {},
     "output_type": "display_data"
    }
   ],
   "source": [
    "from numpy import zeros, linspace\n",
    "from matplotlib.pyplot import plot, scatter, xlim, ylim, xlabel, ylabel, xticks, yticks, text\n",
    "\n",
    "## Plotting x and y axis\n",
    "plot(linspace(-pi, pi + 0.1, num_iteractions + 1), zeros(num_iteractions + 1), color = 'black') # Horizontal axis line\n",
    "plot(zeros(num_iteractions + 1), linspace(-pi, pi, num_iteractions + 1),color = 'black') # Vertical axis line\n",
    "\n",
    "## Plotting two dashed grey lines for reference\n",
    "plot(zeros(num_iteractions + 1) + theta_array[num_iteractions], linspace(-pi, pi, num_iteractions + 1), color = 'lightgrey', linestyle = 'dashed')\n",
    "plot(linspace(-pi, pi + 0.1, num_iteractions + 1), zeros(num_iteractions + 1) + phi_array[num_iteractions], color = 'lightgrey', linestyle = 'dashed')\n",
    "\n",
    "## Plotting our curve of optimum parameters\n",
    "plot(theta_array, phi_array, color = 'green', zorder = 2, linewidth = 3)\n",
    "\n",
    "## Plot a red dot on optimum values\n",
    "scatter(theta_array[num_iteractions], phi_array[num_iteractions], color = 'red', marker = 'o', s = 50, zorder = 3)\n",
    "text(theta_array[num_iteractions] - 0.7, phi_array[num_iteractions] + 0.3, 'Optimum\\n values', color = 'red', fontsize = 10)\n",
    "\n",
    "## Personalizing the plot for clearer visualization\n",
    "xlim(-pi, pi + 0.1)\n",
    "ylim(-pi, pi)\n",
    "xlabel(r'$\\theta_0$', fontsize = 20, labelpad = 10)\n",
    "ylabel(r'$\\phi_0$', fontsize = 20, rotation = 0, labelpad = 25)\n",
    "xticks([0, theta_array[num_iteractions]])\n",
    "yticks([phi_array[num_iteractions]])\n"
   ]
  },
  {
   "cell_type": "markdown",
   "id": "d1703097-af25-4250-8b2f-4a15e1cd684b",
   "metadata": {},
   "source": [
    "The optimum values give $| \\psi \\rangle_{\\text{optimum}} = | 1 \\rangle$ (i.e. $\\theta \\approx \\pi$ and $\\phi \\approx 0$), as expected. However, it should be noted that in general trial states that produce a gs-energy fairly close to the actual value for a given system might not be this close to the actual gs-eigenvector. This is a general fact from the variational theory in quantum mechanics."
   ]
  },
  {
   "cell_type": "markdown",
   "id": "6c60dc0d-427b-40d4-8765-2787c86b1755",
   "metadata": {},
   "source": [
    "## Closing remarks\n",
    "\n",
    "In this notebook I considered a very basic implementation of the VQE for the case of the Hamiltonian $H = Z$. Hopefully it was insctructive for those beginning their journey in quantum computing. However, it should be mentioned that the optimization process we used was also very simple, and several more advanced techniques do exist in current literature (see, for ex. [this great review](https://arxiv.org/abs/2111.05176)). Which one is the best depends on the specific Hamiltonian you are considering (for example, if you need to use a large set of parameters, you may try to exploit physical symmetries in order to hopefully reduce this set). More advanced examples will be covered by me in future notebooks. From now, I hope you enjoyed this one."
   ]
  },
  {
   "cell_type": "code",
   "execution_count": null,
   "id": "6a459420-188d-4241-af9d-b49746a7b601",
   "metadata": {},
   "outputs": [],
   "source": []
  }
 ],
 "metadata": {
  "kernelspec": {
   "display_name": "Python 3 (ipykernel)",
   "language": "python",
   "name": "python3"
  },
  "language_info": {
   "codemirror_mode": {
    "name": "ipython",
    "version": 3
   },
   "file_extension": ".py",
   "mimetype": "text/x-python",
   "name": "python",
   "nbconvert_exporter": "python",
   "pygments_lexer": "ipython3",
   "version": "3.10.11"
  }
 },
 "nbformat": 4,
 "nbformat_minor": 5
}
