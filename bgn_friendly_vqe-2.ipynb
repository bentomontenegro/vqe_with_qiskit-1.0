{
 "cells": [
  {
   "cell_type": "markdown",
   "id": "179c2d46-57c2-40fc-8930-70d9380c9ff2",
   "metadata": {},
   "source": [
    "# A beginner-friendly implementation of the VQE with qiskit 1.0 (Part 2)\n",
    "\n",
    "## Introduction\n",
    "\n",
    "This notebook is the second part of my project introducing the VQE for beginners. In the [first part](https://sites.google.com/view/bentomontenegro/tutorials?authuser=0) we considered the Hamiltonian $H = Z$ and now we move to the (slightly) more complicated case of the Hamiltonian $H = Z - X$. If you have not checked the first part, I recommend you to take a brief look at it in order to clarify our code and our notation.\n",
    "\n",
    "Of course, this second problem is also one for which the answer can be obtained for the sake of comparison, as one can easily show (using standard linear algebra methods) that the eigenvalues of\n",
    "\\begin{equation}\n",
    "    H =\n",
    "    \\begin{pmatrix}\n",
    "    1 & -1 \\\\\n",
    "    -1 & -1\n",
    "    \\end{pmatrix}\n",
    "\\end{equation}\n",
    "are $\\pm \\sqrt{2}$ (the eigenstates are not important for now). Hence, the answer we wish to abtain with the VQE is as close as possible to $E_0 = - \\sqrt{2}$."
   ]
  },
  {
   "cell_type": "markdown",
   "id": "feaa63ff-9f96-463a-8da9-45c52c4c54e0",
   "metadata": {},
   "source": [
    "## Building the Ansatz as two quantum circuits\n",
    "\n",
    "Let us define $H_1 = Z$ and $H_2 = X$, so that $H = H_1 - H_2$. The basic difference from part 1 and now is that, in the second case, as the Hamiltonian has two terms, we need to define a further parameterized 1-qubit quantum circuit. Hopefully the code is clear enough."
   ]
  },
  {
   "cell_type": "code",
   "execution_count": 8,
   "id": "525dcbf4-ffad-447b-9fe7-6d62b7191c0e",
   "metadata": {},
   "outputs": [],
   "source": [
    "### Parameterized Ansätze\n",
    "\n",
    "from numpy import pi\n",
    "from qiskit import QuantumCircuit\n",
    "from qiskit.circuit import Parameter\n",
    "\n",
    "## Ansatz for H1 = Z\n",
    "qc_1 = QuantumCircuit(1) # 1-qubit quantum circuit\n",
    "theta_1 = Parameter('theta_1') # Azhimutal angle\n",
    "phi_1 = Parameter('phi_1') # Polar angle\n",
    "qc_1.ry(theta_1, 0) # Parameterized y-rotation\n",
    "qc_1.rz(phi_1, 0) # Parameterized z-rotation\n",
    "qc_1.measure_all()\n",
    "\n",
    "## Ansatz for H2 = X\n",
    "qc_2 = QuantumCircuit(1) # 1-qubit quantum circuit\n",
    "theta_2 = Parameter('theta_2') # Azhimutal angle\n",
    "phi_2 = Parameter('phi_2') # Polar angle\n",
    "qc_2.ry(theta_2, 0) # Parameterized y-rotation\n",
    "qc_2.rz(phi_2, 0) # Parameterized z-rotation\n",
    "qc_2.ry(-pi/2, 0) # Changing to the x-basis\n",
    "qc_2.measure_all()"
   ]
  },
  {
   "attachments": {},
   "cell_type": "markdown",
   "id": "e508762d-065e-49ee-b512-aeaf9b0c9342",
   "metadata": {},
   "source": [
    "Note that we need to define a different set of parameters for each quantum circuit. Usually this is done by implementing a _vector_ of parameters in qiskit, but our case is simple enough to proceed more directly.\n",
    "\n",
    "Note also that at the end of the second quantum circuit we need to add a (non-parameterized) $R_Y(-\\pi/2)$ standard rotation in order to turn the eigenstate basis of $X$, $\\{|+\\rangle, |-\\rangle\\}$, into the eigenstate basis of $Z$, $\\{|0\\rangle, |1\\rangle\\}$. This is necessary because quantum computers can only measure in the later basis. Conversely, if it was the case that $H_2 = Y$, for example, we would need to change from the eigenstates basis of $Z$ to the eigenstate basis of $Y$, $\\{|+i\\rangle, |-i\\rangle\\}$. This can be achieved with a $R_X(\\pi/2)$ standard rotation. (Look at the Bloch sphere for a little while and recall the [right hand rule](https://pressbooks.library.upei.ca/statics/wp-content/uploads/sites/56/2021/03/Screen-Shot-2021-07-30-at-9.37.47-PM-1024x671.png) for standard rotations.)\n",
    "\n",
    "<div style = \"text-align: center;\">\n",
    "    <img src = \"Bloch.png\" style = \"width:250px; height:260px\"/>\n",
    "</div>"
   ]
  },
  {
   "cell_type": "markdown",
   "id": "1d73cda6-3239-41d4-94d3-7f3f955d3a13",
   "metadata": {},
   "source": [
    "## Implementing the VQE\n",
    "\n",
    "### Expectation values\n",
    "\n",
    "As the standard $R_Y(-\\pi/2)$ rotation take account of mapping the eigenstates of $X$ into the eigenstates of $Z$, we can use the same function of [part 1](ADD LINK) to calculate measurement outcomes."
   ]
  },
  {
   "cell_type": "code",
   "execution_count": 9,
   "id": "875ea083-6018-44f1-ac49-0207a298861a",
   "metadata": {},
   "outputs": [],
   "source": [
    "### Function to return expectation values from a given Ansatz\n",
    "\n",
    "from qiskit import transpile\n",
    "from qiskit_aer import Aer\n",
    "\n",
    "## Backend to return measurement counts\n",
    "backend = Aer.get_backend('qasm_simulator')\n",
    "\n",
    "## Function that returns 1 (-1) if the input is 0 (1)\n",
    "def Z_eigenvalue(measurement_outcome):\n",
    "    if measurement_outcome == '0':\n",
    "        return 1\n",
    "    else: return -1\n",
    "\n",
    "## Function that simulates a qc and returns the expectation value of the Pauli operator Z\n",
    "def ansatz_expectation(ansatz_qc, simulation_shots):\n",
    "    \n",
    "    ## Simulating the circuit\n",
    "    transpiled_ansatz = transpile(ansatz_qc, backend)\n",
    "    result = backend.run(transpiled_ansatz, shots = simulation_shots).result()\n",
    "    result_counts = result.get_counts()\n",
    "\n",
    "    ## Calculating the expectation value of Z\n",
    "    expectation = 0.0\n",
    "    for outcome, counts in result_counts.items():\n",
    "        expectation += Z_eigenvalue(outcome)*counts\n",
    "\n",
    "    return expectation/simulation_shots"
   ]
  },
  {
   "cell_type": "code",
   "execution_count": 3,
   "id": "7b680b1a-9d1f-40e0-a400-eab47c7cbeb0",
   "metadata": {},
   "outputs": [],
   "source": [
    "### Function to return expectation values from a given Ansatz\n",
    "\n",
    "from qiskit import transpile\n",
    "from qiskit_aer import Aer\n",
    "\n",
    "## Backend to return measurement counts\n",
    "backend = Aer.get_backend('qasm_simulator')\n",
    "\n",
    "## Function that returns 1 (-1) if the input is 0 (1)\n",
    "def Z_eigenvalue(measurement_outcome):\n",
    "    if measurement_outcome == '0':\n",
    "        return 1\n",
    "    else: return -1\n",
    "\n",
    "## Function that simulates a qc and returns the expectation value of the Pauli operator Z\n",
    "def ansatz_expectation(ansatz_qc, simulation_shots):\n",
    "    \n",
    "    ## Simulating the circuit\n",
    "    transpiled_ansatz = transpile(ansatz_qc, backend)\n",
    "    result = backend.run(transpiled_ansatz, shots = simulation_shots).result()\n",
    "    result_counts = result.get_counts()\n",
    "\n",
    "    ## Calculating the expectation value of Z\n",
    "    expectation = 0.0\n",
    "    for outcome, counts in result_counts.items():\n",
    "        expectation += Z_eigenvalue(outcome)*counts\n",
    "\n",
    "    return expectation/simulation_shots"
   ]
  },
  {
   "cell_type": "markdown",
   "id": "95c7835d-9aa6-44ae-99bf-63614fb2897f",
   "metadata": {},
   "source": [
    "I found simpler to use the `Aer` simulator in this case, but you can use the `BasicAer` or any other simulator that happens to return the number of measurement outcomes of a given circuit. Note that, because a quantum computer is a machine that rotates qubits and necessarily measure them at the end, we must pass the additional argument `simulation_shots` in order to make an _ensamble_ (= collection) of measurements to determine mean values such as $\\langle H \\rangle$. Recall that we have no direct access to superposition states: quantum mechanics tells that only \"single\" states can be the outcome of any measurement. I know this sounds rather philosophical, but in fact it is. According to the so-called Copenhagen interpretation (due to Bohr, Heisenberg, Dirac, Pauli et al.), single states are reality, whereas superpositions seems to be the simplest _language_ to describe reality (see the classical double-slit experiment)."
   ]
  },
  {
   "cell_type": "markdown",
   "id": "7b471365-fdce-4851-8846-889a6a8c3b0a",
   "metadata": {},
   "source": [
    "### Optimum parameters\n",
    "\n",
    "Exactly as we did in part 1, the _gradient-descent_ method is our friend to search for our optimum set of parameters (i.e. the set of parameters that minimize $\\langle H \\rangle$). Note that we need to use the _same_ set for each term in our Hamiltonian, that is, we define a separate quantum circuit for each term but we _do not minimize each term separately_."
   ]
  },
  {
   "cell_type": "code",
   "execution_count": 10,
   "id": "77fdb220-9661-462b-9915-0ed978ad2392",
   "metadata": {},
   "outputs": [
    {
     "name": "stdout",
     "output_type": "stream",
     "text": [
      "0 0.91 0.99 | E_gs = 0.1620\n",
      "1 0.99 0.90 | E_gs = 0.0548\n",
      "2 1.13 0.86 | E_gs = -0.1628\n",
      "3 1.25 0.79 | E_gs = -0.3466\n",
      "4 1.36 0.73 | E_gs = -0.5108\n",
      "5 1.50 0.65 | E_gs = -0.7370\n",
      "6 1.58 0.57 | E_gs = -0.8376\n",
      "7 1.69 0.52 | E_gs = -0.9910\n",
      "8 1.77 0.46 | E_gs = -1.0910\n",
      "9 1.85 0.41 | E_gs = -1.1456\n",
      "10 1.93 0.37 | E_gs = -1.2298\n",
      "11 1.97 0.33 | E_gs = -1.2520\n",
      "12 2.03 0.30 | E_gs = -1.2968\n",
      "13 2.08 0.27 | E_gs = -1.3302\n",
      "14 2.10 0.25 | E_gs = -1.3450\n",
      "15 2.12 0.23 | E_gs = -1.3566\n",
      "16 2.15 0.21 | E_gs = -1.3590\n",
      "17 2.17 0.17 | E_gs = -1.3688\n",
      "18 2.20 0.15 | E_gs = -1.3996\n",
      "19 2.20 0.11 | E_gs = -1.3796\n",
      "20 2.23 0.14 | E_gs = -1.3734\n",
      "21 2.26 0.15 | E_gs = -1.3886\n",
      "22 2.30 0.14 | E_gs = -1.4132\n",
      "23 2.29 0.12 | E_gs = -1.4014\n",
      "24 2.29 0.11 | E_gs = -1.3958\n",
      "25 2.31 0.09 | E_gs = -1.4236\n",
      "26 2.29 0.07 | E_gs = -1.4056\n",
      "27 2.29 0.06 | E_gs = -1.4086\n",
      "28 2.29 0.05 | E_gs = -1.4012\n",
      "29 2.29 0.06 | E_gs = -1.3970\n",
      "30 2.33 0.05 | E_gs = -1.4178\n",
      "31 2.33 0.04 | E_gs = -1.4080\n",
      "32 2.32 0.04 | E_gs = -1.4232\n",
      "33 2.33 0.03 | E_gs = -1.4012\n",
      "34 2.36 0.04 | E_gs = -1.4114\n",
      "35 2.36 0.05 | E_gs = -1.4138\n",
      "36 2.36 0.04 | E_gs = -1.4140\n",
      "37 2.35 0.05 | E_gs = -1.4070\n",
      "38 2.35 0.04 | E_gs = -1.4116\n",
      "39 2.35 0.04 | E_gs = -1.4218\n",
      "40 2.32 0.03 | E_gs = -1.4280\n",
      "41 2.32 0.00 | E_gs = -1.4200\n",
      "42 2.32 -0.01 | E_gs = -1.4016\n",
      "43 2.34 0.01 | E_gs = -1.4202\n",
      "44 2.32 0.00 | E_gs = -1.3980\n",
      "45 2.34 0.03 | E_gs = -1.4250\n",
      "46 2.31 0.02 | E_gs = -1.4320\n",
      "47 2.31 0.00 | E_gs = -1.4222\n",
      "48 2.29 -0.02 | E_gs = -1.4064\n",
      "49 2.30 -0.03 | E_gs = -1.4034\n"
     ]
    }
   ],
   "source": [
    "### Minimizing H = Z - X\n",
    "\n",
    "from numpy import linspace, append\n",
    "\n",
    "## Choosing random initial parameters\n",
    "theta_gs = pi/4\n",
    "phi_gs = pi/3\n",
    "shots = 1e4\n",
    "\n",
    "## Arrays to store optimum parameter values\n",
    "theta_array = [theta_gs]\n",
    "phi_array = [phi_gs]\n",
    "\n",
    "## Initial < H >\n",
    "\n",
    "E_gs = ansatz_expectation(qc_1.assign_parameters({theta_1: theta_gs, phi_1: phi_gs}), shots) - ansatz_expectation(qc_2.assign_parameters({theta_2: theta_gs, phi_2: phi_gs}), shots)\n",
    "E_array = [E_gs]\n",
    "\n",
    "## Loop parameters\n",
    "dtheta = dphi = 0.1\n",
    "num_iteractions = 50 # Number of optimization trials\n",
    "\n",
    "## Optimization loop (gradient-descent method)\n",
    "\n",
    "for iteraction in range(num_iteractions):\n",
    "    \n",
    "    ## Components of grad_E\n",
    "    grad_E_theta = ansatz_expectation(qc_1.assign_parameters({theta_1: theta_gs + dtheta, phi_1: phi_gs}), shots) - ansatz_expectation(qc_2.assign_parameters({theta_2: theta_gs + dtheta, phi_2: phi_gs}), shots) - E_gs\n",
    "    grad_E_phi = ansatz_expectation(qc_1.assign_parameters({theta_1: theta_gs, phi_1: phi_gs + dphi}), shots) - ansatz_expectation(qc_2.assign_parameters({theta_2: theta_gs, phi_2: phi_gs + dphi}), shots) - E_gs\n",
    "\n",
    "    ## Updating parameters\n",
    "    theta_gs -= grad_E_theta\n",
    "    phi_gs -= grad_E_phi\n",
    "\n",
    "    ## New gs-energy\n",
    "    E_gs = ansatz_expectation(qc_1.assign_parameters({theta_1: theta_gs, phi_1: phi_gs}), shots) - ansatz_expectation(qc_2.assign_parameters({theta_2: theta_gs, phi_2: phi_gs}), shots)\n",
    "    E_array.append(E_gs)\n",
    "    \n",
    "    ## Storing theta_gs's and phi_gs's\n",
    "    theta_array.append(theta_gs)\n",
    "    phi_array.append(phi_gs)\n",
    "\n",
    "    print(iteraction, '%.2f'%theta_gs, '%.2f'%phi_gs, '| E_gs = %.4f'%E_gs) # Uncoment this line if you want to watch the progress\n",
    "    "
   ]
  },
  {
   "cell_type": "markdown",
   "id": "d0186497-be37-4496-9240-810c0ddd379b",
   "metadata": {},
   "source": [
    "As we know the right answer, let us calculate the error, $\\epsilon$, associated with our simulation."
   ]
  },
  {
   "cell_type": "code",
   "execution_count": 14,
   "id": "dd6f6134-35da-44d1-b6a3-da043f2223fc",
   "metadata": {},
   "outputs": [
    {
     "name": "stdout",
     "output_type": "stream",
     "text": [
      "0.007646343282799286\n"
     ]
    }
   ],
   "source": [
    "from numpy import sqrt\n",
    "\n",
    "E_gs_analytical = -sqrt(2)\n",
    "\n",
    "error = (E_gs_analytical - E_gs)/E_gs_analytical\n",
    "\n",
    "print(error)"
   ]
  },
  {
   "cell_type": "markdown",
   "id": "6ff27253-b66b-4a1b-873d-526a7d5d2805",
   "metadata": {},
   "source": [
    "It is a general fact from the VQE that if we perform $1/\\epsilon^2$ measurements, we usually obtain an error of order $\\epsilon$ (see [this article](https://arxiv.org/abs/2111.05176)). Thus, as we perfomed $10^4$ shots when measuring our quantum circuits in the above code, our error is approximately of order $10^{-2}$."
   ]
  },
  {
   "cell_type": "markdown",
   "id": "f581e3c4-3833-416e-8d65-09ab3b4dc937",
   "metadata": {},
   "source": [
    "## Analysis of the process\n",
    "\n",
    "As we did in part 1, let us visualize our search path through the $\\theta \\phi$-plane."
   ]
  },
  {
   "cell_type": "code",
   "execution_count": 16,
   "id": "a14fdf39-c929-432c-aa8f-6042ba4a4c42",
   "metadata": {},
   "outputs": [
    {
     "data": {
      "text/plain": [
       "([<matplotlib.axis.YTick at 0x12fb31d90>],\n",
       " [Text(0, -0.025602448803402456, '−0.026')])"
      ]
     },
     "execution_count": 16,
     "metadata": {},
     "output_type": "execute_result"
    },
    {
     "data": {
      "image/png": "[encoded data removed]",
      "text/plain": [
       "<Figure size 640x480 with 1 Axes>"
      ]
     },
     "metadata": {},
     "output_type": "display_data"
    }
   ],
   "source": [
    "from numpy import zeros, linspace\n",
    "from matplotlib.pyplot import plot, scatter, xlim, ylim, xlabel, ylabel, xticks, yticks, text\n",
    "\n",
    "## Plotting x and y axis\n",
    "plot(linspace(-pi, pi + 0.1, num_iteractions + 1), zeros(num_iteractions + 1), color = 'black') # Horizontal axis line\n",
    "plot(zeros(num_iteractions + 1), linspace(-pi, pi, num_iteractions + 1),color = 'black') # Vertical axis line\n",
    "\n",
    "## Plotting two dashed grey lines for reference\n",
    "plot(zeros(num_iteractions + 1) + theta_array[num_iteractions], linspace(-pi, pi, num_iteractions + 1), color = 'lightgrey', linestyle = 'dashed')\n",
    "plot(linspace(-pi, pi + 0.1, num_iteractions + 1), zeros(num_iteractions + 1) + phi_array[num_iteractions], color = 'lightgrey', linestyle = 'dashed')\n",
    "\n",
    "## Plotting our curve of optimum parameters\n",
    "plot(theta_array, phi_array, color = 'green', zorder = 2, linewidth = 3)\n",
    "\n",
    "## Plot a red dot on optimum values\n",
    "scatter(theta_array[0], phi_array[0], color = 'blue', marker = 'o', s = 50, zorder = 3)\n",
    "text(theta_array[0] + 0.05, phi_array[0] + 0.1, 'Initial\\n values', color = 'blue', fontsize = 10)\n",
    "scatter(theta_array[num_iteractions], phi_array[num_iteractions], color = 'red', marker = 'o', s = 50, zorder = 3)\n",
    "text(theta_array[num_iteractions] + 0.05, phi_array[num_iteractions] + 0.3, 'Optimum\\n values', color = 'red', fontsize = 10)\n",
    "\n",
    "## Personalizing the plot for clearer visualization\n",
    "xlim(-pi, pi + 0.1)\n",
    "ylim(-pi, pi)\n",
    "xlabel(r'$\\theta_0$', fontsize = 20, labelpad = 10)\n",
    "ylabel(r'$\\phi_0$', fontsize = 20, rotation = 0, labelpad = 25)\n",
    "xticks([0, theta_array[num_iteractions]])\n",
    "yticks([phi_array[num_iteractions]])\n"
   ]
  },
  {
   "cell_type": "markdown",
   "id": "6c60dc0d-427b-40d4-8765-2787c86b1755",
   "metadata": {},
   "source": [
    "## Closing remarks\n",
    "\n",
    "In this notebook we considered a slightly more complicated example of the VQE, confirming that the methods we used in part 1 lead to the right result. However, we have been restricted to the case of quantum circuits involving one qubit only. The case of more qubits is a natural generalization, and we shall implement it in a further notebook."
   ]
  }
 ],
 "metadata": {
  "kernelspec": {
   "display_name": "Python 3 (ipykernel)",
   "language": "python",
   "name": "python3"
  },
  "language_info": {
   "codemirror_mode": {
    "name": "ipython",
    "version": 3
   },
   "file_extension": ".py",
   "mimetype": "text/x-python",
   "name": "python",
   "nbconvert_exporter": "python",
   "pygments_lexer": "ipython3",
   "version": "3.10.11"
  }
 },
 "nbformat": 4,
 "nbformat_minor": 5
}
